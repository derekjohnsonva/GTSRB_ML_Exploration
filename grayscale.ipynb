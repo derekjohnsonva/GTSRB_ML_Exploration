{
 "cells": [
  {
   "cell_type": "markdown",
   "metadata": {},
   "source": [
    "# Exploration of Grayscale\n",
    "\n",
    "We had seen several people online say that converting an image to grayscale can improve classification accuracy\n",
    "as it reduces the dementionality of the input image making feature detection easier.\n",
    "\n",
    "This notebook is a conversion of the model listed in our [exploration file](./exploration.ipynb) with an additional\n",
    "data processing step `cv.cvtColor(image, cv.COLOR_BGR2GRAY)`. "
   ]
  },
  {
   "cell_type": "code",
   "execution_count": 1,
   "metadata": {},
   "outputs": [],
   "source": [
    "# STDLIB\n",
    "import os\n",
    "import typing\n",
    "import csv\n",
    "# Packages\n",
    "import numpy as np\n",
    "import matplotlib.pyplot as plt\n",
    "import cv2 as cv\n",
    "import tensorflow as tf\n",
    "from tensorflow import keras\n",
    "from tensorflow.keras.layers import Conv2D, MaxPooling2D, Dropout, Flatten, Dense\n",
    "from sklearn.model_selection import train_test_split"
   ]
  },
  {
   "cell_type": "code",
   "execution_count": 2,
   "metadata": {},
   "outputs": [
    {
     "name": "stdout",
     "output_type": "stream",
     "text": [
      "Num GPUs Available:  4\n"
     ]
    }
   ],
   "source": [
    "DATA_DIR = \"GTSRB\"\n",
    "TRAINING_DATA_PATH = os.path.join(DATA_DIR, \"Final_Training/Images\")\n",
    "print(\"Num GPUs Available: \", len(tf.config.list_physical_devices('GPU')))"
   ]
  },
  {
   "cell_type": "code",
   "execution_count": 3,
   "metadata": {},
   "outputs": [],
   "source": [
    "def readTrafficSigns(rootpath: str) -> typing.Tuple[list[cv.Mat], list[str]]:\n",
    "    '''Reads traffic sign data for German Traffic Sign Recognition Benchmark.\n",
    "\n",
    "    Arguments: path to the traffic sign data, for example './GTSRB/Training'\n",
    "    Returns:   list of images, list of corresponding labels'''\n",
    "    images = [] # images\n",
    "    labels = [] # corresponding labels\n",
    "    # loop over all 42 classes\n",
    "    for c in range(0,43):\n",
    "        prefix = rootpath + '/' + format(c, '05d') + '/' # subdirectory for class\n",
    "        with open(prefix + 'GT-'+ format(c, '05d') + '.csv') as gtFile:\n",
    "            gtReader = csv.reader(gtFile, delimiter=';') # csv parser for annotations file\n",
    "            next(gtReader) # skip header\n",
    "            # loop over all images in current annotations file\n",
    "            for row in gtReader:\n",
    "                image = cv.imread(prefix + row[0]) # read image, the 1th column is the filename\n",
    "                image = cv.resize(image, (32,32)) # resize to 32x32\n",
    "                # image = cv.cvtColor(image, cv.COLOR_BGR2GRAY) # convert to grayscale\n",
    "                images.append(image)\n",
    "                labels.append(row[7]) # the 8th column is the label\n",
    "    return images, labels\n",
    "\n",
    "\n",
    "\n",
    "raw_images, raw_labels = readTrafficSigns(TRAINING_DATA_PATH)\n",
    "\n",
    "def process_images(images: list[cv.Mat]):\n",
    "    output = []\n",
    "    for image in images:\n",
    "        resized_image = cv.resize(image, (32,32))\n",
    "        grayscale_image = cv.cvtColor(resized_image, cv.COLOR_BGR2GRAY)\n",
    "        output.append(grayscale_image) # resize to 32x32\n",
    "    return output\n",
    "\n",
    "processed_images = process_images(raw_images)\n",
    "# convert the list to numpy arrays\n",
    "images = np.array(processed_images).astype(np.float32) # this allows us to convert it to a tensor\n",
    "images = images/255 # Everyone seems to do this so we will too!!!\n",
    "labels = np.array(raw_labels).astype(np.float32)\n",
    "assert len(images) == len(labels)\n",
    "\n",
    "train_images, test_images, train_labels, test_labels = train_test_split(images, labels, test_size=0.2, random_state=123)\n"
   ]
  },
  {
   "cell_type": "code",
   "execution_count": 4,
   "metadata": {},
   "outputs": [
    {
     "name": "stderr",
     "output_type": "stream",
     "text": [
      "2022-05-11 13:50:19.913125: I tensorflow/core/platform/cpu_feature_guard.cc:151] This TensorFlow binary is optimized with oneAPI Deep Neural Network Library (oneDNN) to use the following CPU instructions in performance-critical operations:  AVX2 AVX512F FMA\n",
      "To enable them in other operations, rebuild TensorFlow with the appropriate compiler flags.\n",
      "2022-05-11 13:50:23.611613: I tensorflow/core/common_runtime/gpu/gpu_device.cc:1525] Created device /job:localhost/replica:0/task:0/device:GPU:0 with 6674 MB memory:  -> device: 0, name: Quadro RTX 4000, pci bus id: 0000:3d:00.0, compute capability: 7.5\n",
      "2022-05-11 13:50:23.613334: I tensorflow/core/common_runtime/gpu/gpu_device.cc:1525] Created device /job:localhost/replica:0/task:0/device:GPU:1 with 4625 MB memory:  -> device: 1, name: Quadro RTX 4000, pci bus id: 0000:60:00.0, compute capability: 7.5\n",
      "2022-05-11 13:50:23.614397: I tensorflow/core/common_runtime/gpu/gpu_device.cc:1525] Created device /job:localhost/replica:0/task:0/device:GPU:2 with 4761 MB memory:  -> device: 2, name: Quadro RTX 4000, pci bus id: 0000:b1:00.0, compute capability: 7.5\n",
      "2022-05-11 13:50:23.615730: I tensorflow/core/common_runtime/gpu/gpu_device.cc:1525] Created device /job:localhost/replica:0/task:0/device:GPU:3 with 13 MB memory:  -> device: 3, name: Quadro RTX 4000, pci bus id: 0000:da:00.0, compute capability: 7.5\n"
     ]
    },
    {
     "name": "stdout",
     "output_type": "stream",
     "text": [
      "Epoch 1/30\n"
     ]
    },
    {
     "name": "stderr",
     "output_type": "stream",
     "text": [
      "/u/dej3tc/Documents/ML/GTSRB_ML_Exploration/env/lib/python3.9/site-packages/tensorflow/python/util/dispatch.py:1082: UserWarning: \"`sparse_categorical_crossentropy` received `from_logits=True`, but the `output` argument was produced by a sigmoid or softmax activation and thus does not represent logits. Was this intended?\"\n",
      "  return dispatch_target(*args, **kwargs)\n",
      "2022-05-11 13:50:25.299560: I tensorflow/stream_executor/cuda/cuda_dnn.cc:368] Loaded cuDNN version 8101\n",
      "2022-05-11 13:50:26.237797: W tensorflow/stream_executor/gpu/asm_compiler.cc:80] Couldn't get ptxas version string: INTERNAL: Running ptxas --version returned 32512\n",
      "2022-05-11 13:50:26.349369: W tensorflow/stream_executor/gpu/redzone_allocator.cc:314] INTERNAL: ptxas exited with non-zero error code 32512, output: \n",
      "Relying on driver to perform ptx compilation. \n",
      "Modify $PATH to customize ptxas location.\n",
      "This message will be only logged once.\n"
     ]
    },
    {
     "name": "stdout",
     "output_type": "stream",
     "text": [
      "981/981 [==============================] - 13s 10ms/step - loss: 0.9222 - accuracy: 0.7429 - val_loss: 0.0936 - val_accuracy: 0.9756\n",
      "Epoch 2/30\n",
      "981/981 [==============================] - 9s 9ms/step - loss: 0.1512 - accuracy: 0.9550 - val_loss: 0.0461 - val_accuracy: 0.9870\n",
      "Epoch 3/30\n",
      "981/981 [==============================] - 9s 9ms/step - loss: 0.0953 - accuracy: 0.9699 - val_loss: 0.0343 - val_accuracy: 0.9898\n",
      "Epoch 4/30\n",
      "981/981 [==============================] - 9s 9ms/step - loss: 0.0720 - accuracy: 0.9775 - val_loss: 0.0283 - val_accuracy: 0.9922\n",
      "Epoch 5/30\n",
      "981/981 [==============================] - 9s 9ms/step - loss: 0.0578 - accuracy: 0.9823 - val_loss: 0.0188 - val_accuracy: 0.9950\n",
      "Epoch 6/30\n",
      "981/981 [==============================] - 9s 9ms/step - loss: 0.0499 - accuracy: 0.9846 - val_loss: 0.0265 - val_accuracy: 0.9938\n",
      "Epoch 7/30\n",
      "981/981 [==============================] - 9s 9ms/step - loss: 0.0442 - accuracy: 0.9856 - val_loss: 0.0205 - val_accuracy: 0.9948\n",
      "Epoch 8/30\n",
      "981/981 [==============================] - 8s 9ms/step - loss: 0.0373 - accuracy: 0.9882 - val_loss: 0.0210 - val_accuracy: 0.9944\n",
      "Epoch 9/30\n",
      "981/981 [==============================] - 9s 9ms/step - loss: 0.0398 - accuracy: 0.9876 - val_loss: 0.0152 - val_accuracy: 0.9968\n",
      "Epoch 10/30\n",
      "981/981 [==============================] - 8s 9ms/step - loss: 0.0375 - accuracy: 0.9884 - val_loss: 0.0127 - val_accuracy: 0.9974\n",
      "Epoch 11/30\n",
      "981/981 [==============================] - 9s 9ms/step - loss: 0.0378 - accuracy: 0.9886 - val_loss: 0.0126 - val_accuracy: 0.9977\n",
      "Epoch 12/30\n",
      "981/981 [==============================] - 9s 9ms/step - loss: 0.0300 - accuracy: 0.9903 - val_loss: 0.0111 - val_accuracy: 0.9974\n",
      "Epoch 13/30\n",
      "981/981 [==============================] - 8s 9ms/step - loss: 0.0313 - accuracy: 0.9905 - val_loss: 0.0117 - val_accuracy: 0.9977\n",
      "Epoch 14/30\n",
      "981/981 [==============================] - 8s 9ms/step - loss: 0.0338 - accuracy: 0.9902 - val_loss: 0.0176 - val_accuracy: 0.9954\n",
      "Epoch 15/30\n",
      "981/981 [==============================] - 9s 9ms/step - loss: 0.0273 - accuracy: 0.9920 - val_loss: 0.0155 - val_accuracy: 0.9973\n",
      "Epoch 16/30\n",
      "981/981 [==============================] - 9s 9ms/step - loss: 0.0287 - accuracy: 0.9912 - val_loss: 0.0139 - val_accuracy: 0.9971\n",
      "Epoch 17/30\n",
      "981/981 [==============================] - 9s 9ms/step - loss: 0.0271 - accuracy: 0.9923 - val_loss: 0.0166 - val_accuracy: 0.9966\n",
      "Epoch 18/30\n",
      "981/981 [==============================] - 9s 9ms/step - loss: 0.0266 - accuracy: 0.9920 - val_loss: 0.0208 - val_accuracy: 0.9968\n",
      "Epoch 19/30\n",
      "981/981 [==============================] - 8s 9ms/step - loss: 0.0277 - accuracy: 0.9917 - val_loss: 0.0150 - val_accuracy: 0.9969\n",
      "Epoch 20/30\n",
      "981/981 [==============================] - 9s 9ms/step - loss: 0.0233 - accuracy: 0.9933 - val_loss: 0.0189 - val_accuracy: 0.9972\n",
      "Epoch 21/30\n",
      "981/981 [==============================] - 9s 9ms/step - loss: 0.0265 - accuracy: 0.9931 - val_loss: 0.0175 - val_accuracy: 0.9972\n",
      "Epoch 22/30\n",
      "981/981 [==============================] - 9s 9ms/step - loss: 0.0313 - accuracy: 0.9918 - val_loss: 0.0251 - val_accuracy: 0.9968\n",
      "Epoch 23/30\n",
      "981/981 [==============================] - 9s 9ms/step - loss: 0.0229 - accuracy: 0.9932 - val_loss: 0.0157 - val_accuracy: 0.9976\n",
      "Epoch 24/30\n",
      "981/981 [==============================] - 8s 9ms/step - loss: 0.0253 - accuracy: 0.9923 - val_loss: 0.0163 - val_accuracy: 0.9974\n",
      "Epoch 25/30\n",
      "981/981 [==============================] - 8s 8ms/step - loss: 0.0219 - accuracy: 0.9940 - val_loss: 0.0157 - val_accuracy: 0.9973\n",
      "Epoch 26/30\n",
      "981/981 [==============================] - 9s 9ms/step - loss: 0.0285 - accuracy: 0.9918 - val_loss: 0.0274 - val_accuracy: 0.9972\n",
      "Epoch 27/30\n",
      "981/981 [==============================] - 9s 9ms/step - loss: 0.0212 - accuracy: 0.9938 - val_loss: 0.0191 - val_accuracy: 0.9967\n",
      "Epoch 28/30\n",
      "981/981 [==============================] - 9s 9ms/step - loss: 0.0273 - accuracy: 0.9934 - val_loss: 0.0229 - val_accuracy: 0.9977\n",
      "Epoch 29/30\n",
      "981/981 [==============================] - 9s 9ms/step - loss: 0.0257 - accuracy: 0.9940 - val_loss: 0.0217 - val_accuracy: 0.9971\n",
      "Epoch 30/30\n",
      "981/981 [==============================] - 9s 9ms/step - loss: 0.0265 - accuracy: 0.9931 - val_loss: 0.0240 - val_accuracy: 0.9959\n"
     ]
    },
    {
     "data": {
      "image/png": "[encoded data removed]",
      "text/plain": [
       "<Figure size 432x288 with 2 Axes>"
      ]
     },
     "metadata": {
      "needs_background": "light"
     },
     "output_type": "display_data"
    }
   ],
   "source": [
    "def get_model():\n",
    "    model = keras.models.Sequential()\n",
    "    model.add(Conv2D(32, (3, 3), activation='relu', input_shape=(32, 32, 1)))\n",
    "    model.add(Conv2D(32, (3, 3), activation='relu'))\n",
    "    model.add(MaxPooling2D(pool_size=(2, 2)))\n",
    "    model.add(Dropout(0.3))\n",
    "    model.add(Conv2D(64, (3, 3), activation='relu'))\n",
    "    model.add(Conv2D(64, (3, 3), activation='relu'))\n",
    "    model.add(MaxPooling2D(pool_size=(2, 2)))\n",
    "    model.add(Dropout(0.25))\n",
    "    model.add(Flatten())\n",
    "    model.add(Dense(800, activation='relu'))\n",
    "    model.add(Dropout(0.5))\n",
    "    model.add(Dense(43, activation='softmax'))\n",
    "    return model\n",
    "\n",
    "\n",
    "# Check to see if we have already trained the model\n",
    "MODEL_NAME = \"cnn_grayscale.h5\"\n",
    "\n",
    "model = get_model()\n",
    "if os.path.exists(MODEL_NAME):\n",
    "    print(\"Loading existing model. If you want to retrain, delete the file: \" + MODEL_NAME)\n",
    "    model = keras.models.load_model(MODEL_NAME)\n",
    "else:\n",
    "    model.compile(optimizer='adam',\n",
    "                  loss=tf.keras.losses.SparseCategoricalCrossentropy(\n",
    "                      from_logits=True),\n",
    "                  metrics=['accuracy'])\n",
    "    history = model.fit(train_images, train_labels, epochs=30,\n",
    "                        validation_data=(test_images, test_labels))\n",
    "\n",
    "    # summarize history for accuracy\n",
    "    plt.subplot(1, 2, 1)\n",
    "    plt.plot(history.history['accuracy'])\n",
    "    plt.plot(history.history['val_accuracy'])\n",
    "    plt.title('model accuracy')\n",
    "    plt.ylabel('accuracy')\n",
    "    plt.xlabel('epoch')\n",
    "    plt.legend(['train', 'test'], loc='upper left')\n",
    "    # summarize history for loss\n",
    "    plt.subplot(1, 2, 2)\n",
    "    plt.plot(history.history['loss'])\n",
    "    plt.plot(history.history['val_loss'])\n",
    "    plt.title('model loss')\n",
    "    plt.ylabel('loss')\n",
    "    plt.xlabel('epoch')\n",
    "    plt.legend(['train', 'test'], loc='upper left')\n",
    "    # After plotting, lets save the model to a HDF5 file\n",
    "    model.save(MODEL_NAME)"
   ]
  },
  {
   "cell_type": "code",
   "execution_count": 5,
   "metadata": {},
   "outputs": [
    {
     "name": "stdout",
     "output_type": "stream",
     "text": [
      "395/395 [==============================] - 2s 4ms/step - loss: 0.2122 - accuracy: 0.9698\n",
      "{'loss': 0.21220843493938446, 'accuracy': 0.9697545766830444}\n"
     ]
    }
   ],
   "source": [
    "TEST_DATA_PATH = os.path.join(DATA_DIR, \"Final_Test/Images\")\n",
    "\n",
    "def readTrafficSignsTest(rootpath: str) -> typing.Tuple[list[cv.Mat], list[str]]:\n",
    "    '''Reads traffic sign data for German Traffic Sign Recognition Benchmark.\n",
    "\n",
    "    Arguments: path to the traffic sign data, for example './GTSRB/Training'\n",
    "    Returns:   list of images, list of corresponding labels'''\n",
    "    images = [] # images\n",
    "    labels = [] # corresponding labels\n",
    "    # loop over all 42 classes\n",
    "    with open(os.path.join(rootpath, 'GT-final_test.csv')) as gtFile:\n",
    "        gtReader = csv.reader(gtFile, delimiter=';') # csv parser for annotations file\n",
    "        next(gtReader) # skip header\n",
    "        # loop over all images in current annotations file\n",
    "        for row in gtReader:\n",
    "            file_link = os.path.join(rootpath, row[0])\n",
    "            image = cv.imread(file_link) # read image, the 1th column is the filename\n",
    "            # image = cv.resize(image, (32,32)) # resize to 32x32\n",
    "            # image = cv.cvtColor(image, cv.COLOR_BGR2GRAY) # convert to grayscale\n",
    "            images.append(image)\n",
    "            labels.append(row[7]) # the 8th column is the label\n",
    "    return images, labels\n",
    "\n",
    "def run_model_on_data(model: keras.Model, images: list[cv.Mat], labels: list[str]) -> dict[str, float]:\n",
    "    \"\"\"_summary_: Runs the model on the given images and labels.\n",
    "\n",
    "    Args:\n",
    "        model (keras.Model): The model to run on the images.\n",
    "        images (list[cv.Mat]): The images to run on. These should already be processed.\n",
    "        labels (list[str]): The labels to run on.\n",
    "\n",
    "    Returns:\n",
    "        A dictionary with two keys: 'accuracy' and 'loss'.\n",
    "    \"\"\"\n",
    "    test_images = np.array(images).astype(np.float32) # this allows us to convert it to a tensor\n",
    "    test_images = test_images/255 # Everyone seems to do this so we will too!!!\n",
    "    test_labels = np.array(labels).astype(np.float32)\n",
    "\n",
    "    assert len(test_images) == len(test_labels)\n",
    "\n",
    "    result = model.evaluate(test_images, test_labels)\n",
    "    return dict(zip(model.metrics_names, result))\n",
    "\n",
    "\n",
    "real_test_images, real_test_labels = readTrafficSignsTest(TEST_DATA_PATH)\n",
    "processed_test_images = process_images(real_test_images)\n",
    "\n",
    "result_dict = run_model_on_data(model, processed_test_images, real_test_labels)\n",
    "print(result_dict)"
   ]
  },
  {
   "cell_type": "markdown",
   "metadata": {},
   "source": [
    "## Results\n",
    "Our model using grayscale images had an accuracy of $0.9697545766830444%$ and a loss of $0.21220843493938446$\n",
    "\n",
    "This is not as accurate as our model trained with color images. \n",
    "\n",
    "We suspect that color plays an important role in classification for our model. Thus, by removing this dimetion,\n",
    "we are removing important classification information. \n",
    "Thus, we will continue to use color images for training and testing."
   ]
  }
 ],
 "metadata": {
  "interpreter": {
   "hash": "0748de0ab3ca80ffb25b4ddd2318bb4a5ef5fca12a43a3e8d1e1d6738f8e7819"
  },
  "kernelspec": {
   "display_name": "Python 3.9.9 ('env': venv)",
   "language": "python",
   "name": "python3"
  },
  "language_info": {
   "codemirror_mode": {
    "name": "ipython",
    "version": 3
   },
   "file_extension": ".py",
   "mimetype": "text/x-python",
   "name": "python",
   "nbconvert_exporter": "python",
   "pygments_lexer": "ipython3",
   "version": "3.9.9"
  },
  "orig_nbformat": 4
 },
 "nbformat": 4,
 "nbformat_minor": 2
}
