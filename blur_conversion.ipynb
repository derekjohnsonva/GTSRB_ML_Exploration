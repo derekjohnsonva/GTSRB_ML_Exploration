{
 "cells": [
  {
   "cell_type": "markdown",
   "metadata": {},
   "source": [
    "## Random Scratch Test\n",
    "This section is to draw random scratches on an image and check how reilient the classifier is to these randomly introduced noises.\n",
    "To introduce the random scratches, we basically plot a straight line and some dots on an image using the matplotlib. \n",
    "The code is inspired from this [page](https://www.geeksforgeeks.org/plot-a-point-or-a-line-on-an-image-with-matplotlib/). "
   ]
  },
  {
   "cell_type": "code",
   "execution_count": 1,
   "metadata": {},
   "outputs": [],
   "source": [
    "# STDLIB\n",
    "import os\n",
    "import typing\n",
    "import csv\n",
    "# Packages\n",
    "import numpy as np\n",
    "import matplotlib.pyplot as plt\n",
    "import cv2 as cv\n",
    "import tensorflow as tf\n",
    "from tensorflow import keras\n",
    "from sklearn.model_selection import train_test_split\n",
    "from matplotlib import image\n",
    "import random\n",
    "from skimage.metrics import structural_similarity as ssim\n",
    "from tqdm import tqdm"
   ]
  },
  {
   "cell_type": "code",
   "execution_count": 2,
   "metadata": {},
   "outputs": [],
   "source": [
    "DATA_DIR = \"GTSRB\"\n",
    "TRAINING_DATA_PATH = os.path.join(DATA_DIR, \"Final_Training/Images\")\n",
    "CORRUPTED_DATA_PATH = os.path.join(DATA_DIR, \"corrupted_Data/Images\")"
   ]
  },
  {
   "cell_type": "code",
   "execution_count": 29,
   "metadata": {},
   "outputs": [],
   "source": [
    "def RGB_to_grayscale(input_image) :\n",
    "    converted_image = []\n",
    "    for i in range(input_image.shape[0]) :\n",
    "        for j in range(input_image.shape[1]) :\n",
    "            gray_value = 0\n",
    "            sum = 0\n",
    "            for k in range(input_image.shape[2]):\n",
    "                sum = sum + input_image[i, j, k] \n",
    "            gray_value = sum / 3\n",
    "            input_image[i, j, 0] = gray_value\n",
    "            input_image[i, j, 1] = gray_value\n",
    "            input_image[i, j, 2] = gray_value\n",
    "    \n",
    "    return input_image"
   ]
  },
  {
   "cell_type": "code",
   "execution_count": 30,
   "metadata": {},
   "outputs": [
    {
     "data": {
      "text/plain": [
       "True"
      ]
     },
     "execution_count": 30,
     "metadata": {},
     "output_type": "execute_result"
    }
   ],
   "source": [
    "image_data = image.imread('10945.ppm')\n",
    "input_image = image.imread('10945.ppm')\n",
    "\n",
    "image_height = image_data.shape[0]\n",
    "image_width = image_data.shape[1]\n",
    "min_length = round(0.25 * image_height)\n",
    "\n",
    "#print(\"Image_height = \", image_height, \"min_length = \", min_length)\n",
    "#processed_image = cv.cvtColor(image_data, cv.COLOR_BGR2GRAY) # convert to grayscale\n",
    "#print(image_data)\n",
    "processed_image = RGB_to_grayscale(image_data)\n",
    "cv.imwrite('bw_output.ppm', processed_image)\n"
   ]
  },
  {
   "cell_type": "code",
   "execution_count": 31,
   "metadata": {},
   "outputs": [
    {
     "name": "stderr",
     "output_type": "stream",
     "text": [
      "210it [00:02, 74.47it/s]0:00<?, ?it/s]\n",
      "2220it [00:22, 100.22it/s]02<01:58,  2.82s/it]\n",
      "2250it [00:22, 98.72it/s]:24<09:42, 14.20s/it]\n",
      "1410it [00:13, 105.86it/s]47<12:04, 18.12s/it]\n",
      "1980it [00:19, 102.57it/s]01<10:32, 16.23s/it]\n",
      "1860it [00:18, 102.39it/s]20<10:58, 17.34s/it]\n",
      "420it [00:04, 100.37it/s]:38<10:51, 17.62s/it]\n",
      "1440it [00:13, 107.02it/s]42<07:56, 13.23s/it]\n",
      "1410it [00:12, 111.12it/s]56<07:45, 13.30s/it]\n",
      "1470it [00:14, 102.36it/s]08<07:25, 13.11s/it]\n",
      "2010it [00:19, 105.09it/s]:23<07:25, 13.50s/it]\n",
      "1320it [00:12, 106.64it/s]:42<08:07, 15.22s/it]\n",
      "2100it [00:19, 108.39it/s]:54<07:25, 14.36s/it]\n",
      "2160it [00:20, 106.84it/s]:14<07:56, 15.88s/it]\n",
      "780it [00:07, 108.19it/s]3:34<08:18, 17.19s/it]\n",
      "630it [00:05, 105.97it/s]3:41<06:37, 14.18s/it]\n",
      "420it [00:04, 98.21it/s]03:47<05:16, 11.70s/it]\n",
      "1110it [00:10, 105.30it/s]:51<04:06,  9.47s/it]\n",
      "1200it [00:11, 106.51it/s]:02<04:04,  9.79s/it]\n",
      "210it [00:01, 119.15it/s]4:13<04:05, 10.24s/it]\n",
      "360it [00:03, 115.27it/s]4:15<02:56,  7.69s/it]\n",
      "330it [00:03, 97.32it/s]04:18<02:19,  6.32s/it]\n",
      "390it [00:03, 115.92it/s]4:21<01:54,  5.44s/it]\n",
      "510it [00:05, 89.66it/s] 4:25<01:36,  4.82s/it]\n",
      "270it [00:02, 110.50it/s]4:31<01:36,  5.08s/it]\n",
      "1500it [00:15, 97.73it/s] :33<01:17,  4.29s/it]\n",
      "600it [00:06, 91.31it/s]04:48<02:09,  7.61s/it]\n",
      "240it [00:03, 77.73it/s] 4:55<01:56,  7.30s/it]\n",
      "540it [00:05, 98.68it/s] 4:58<01:30,  6.04s/it]\n",
      "270it [00:02, 95.74it/s] 5:03<01:22,  5.87s/it]\n",
      "450it [00:04, 105.24it/s]5:06<01:04,  4.96s/it]\n",
      "780it [00:07, 102.13it/s]5:11<00:57,  4.75s/it]\n",
      "240it [00:02, 104.98it/s]5:18<01:01,  5.62s/it]\n",
      "689it [00:06, 112.74it/s]5:20<00:46,  4.62s/it]\n",
      "420it [00:03, 114.69it/s]5:27<00:45,  5.07s/it]\n",
      "1200it [00:11, 104.63it/s]:30<00:37,  4.65s/it]\n",
      "390it [00:03, 99.32it/s]05:42<00:46,  6.70s/it]\n",
      "210it [00:02, 85.16it/s] 5:46<00:35,  5.87s/it]\n",
      "2070it [00:19, 103.80it/s]:48<00:24,  4.85s/it]\n",
      "300it [00:02, 104.12it/s]6:08<00:37,  9.38s/it]\n",
      "360it [00:03, 91.80it/s]06:11<00:22,  7.43s/it]\n",
      "240it [00:02, 105.17it/s]6:15<00:12,  6.38s/it]\n",
      "240it [00:02, 97.07it/s] 6:17<00:05,  5.15s/it]\n",
      "100%|██████████| 43/43 [06:20<00:00,  8.84s/it]\n"
     ]
    }
   ],
   "source": [
    "def readTrafficSigns(rootpath: str) -> typing.Tuple[np.array, np.array]:\n",
    "    '''Reads traffic sign data for German Traffic Sign Recognition Benchmark.\n",
    "\n",
    "    Arguments: path to the traffic sign data, for example './GTSRB/Training'\n",
    "    Returns:   list of images, list of corresponding labels'''\n",
    "    images = [] # images\n",
    "    processed_images = []   # array to hold the processed images\n",
    "    labels = [] # corresponding labels\n",
    "    # loop over all 42 classes\n",
    "    for c in tqdm(range(0,43)):\n",
    "        prefix = rootpath + '/' + format(c, '05d') + '/' # subdirectory for class\n",
    "        with open(prefix + 'GT-'+ format(c, '05d') + '.csv') as gtFile:\n",
    "            gtReader = csv.reader(gtFile, delimiter=';') # csv parser for annotations file\n",
    "            next(gtReader) # skip header\n",
    "            # loop over all images in current annotations file\n",
    "            for row in tqdm(gtReader):\n",
    "                #image_filename = row[0]\n",
    "                #print(\"File Path = \", (prefix + row[0]))\n",
    "                image = cv.imread(prefix + row[0]) # read image, the 1th column is the filename\n",
    "                image = cv.resize(image, (32,32)) # resize to 32x32\n",
    "                processed_image = RGB_to_grayscale(image)   # This used to equal conversion RGB/3 unlike standard grayscale conv that tends to vary weights to R,G,B unequally\n",
    "                corrupted_output_filename = \"bw_\" + row[0]\n",
    "                cv.imwrite(prefix + corrupted_output_filename, processed_image)\n",
    "                images.append(image)\n",
    "                labels.append(row[7]) # the 8th column is the label\n",
    "    # convert the list to numpy arrays\n",
    "    images = np.array(images).astype(np.float32) # this allows us to convert it to a tensor\n",
    "    images = images/255 # Everyone seems to do this so we will too!!!\n",
    "    labels = np.array(labels).astype(np.float32)\n",
    "    return images, labels\n",
    "\n",
    "images, labels = readTrafficSigns(TRAINING_DATA_PATH)\n",
    "assert len(images) == len(labels)\n"
   ]
  }
 ],
 "metadata": {
  "interpreter": {
   "hash": "eb4bced920e404e701204d172d5ad5d14b88e5d1cbc07f76649fd8d5a38c144f"
  },
  "kernelspec": {
   "display_name": "myenv",
   "language": "python",
   "name": "myenv"
  },
  "language_info": {
   "codemirror_mode": {
    "name": "ipython",
    "version": 3
   },
   "file_extension": ".py",
   "mimetype": "text/x-python",
   "name": "python",
   "nbconvert_exporter": "python",
   "pygments_lexer": "ipython3",
   "version": "3.8.0"
  },
  "orig_nbformat": 4
 },
 "nbformat": 4,
 "nbformat_minor": 2
}
